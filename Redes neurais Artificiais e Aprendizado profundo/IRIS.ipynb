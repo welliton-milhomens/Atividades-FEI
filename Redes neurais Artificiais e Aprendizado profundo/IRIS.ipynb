{
 "cells": [
  {
   "cell_type": "code",
   "execution_count": 756,
   "id": "9e440502-3859-44ff-9a7a-833732bbf402",
   "metadata": {},
   "outputs": [],
   "source": [
    "import numpy as np\n",
    "import pandas as pd\n",
    "import matplotlib.pyplot as plt"
   ]
  },
  {
   "cell_type": "code",
   "execution_count": 757,
   "id": "0019e19b-c438-41b1-a186-abdea8a60422",
   "metadata": {
    "scrolled": true
   },
   "outputs": [
    {
     "data": {
      "text/plain": [
       "['sepal_length', 'sepal_width', 'petal_length', 'petal_width', 'class']"
      ]
     },
     "execution_count": 757,
     "metadata": {},
     "output_type": "execute_result"
    }
   ],
   "source": [
    "url = \"https://archive.ics.uci.edu/ml/machine-learning-databases/iris/iris.data\"\n",
    "nome_coluna = ['sepal_length', 'sepal_width', 'petal_length', 'petal_width', 'class']\n",
    "nome_coluna"
   ]
  },
  {
   "cell_type": "code",
   "execution_count": 758,
   "id": "a31e50b7-29bf-41ed-9dc9-b6bb444959a1",
   "metadata": {},
   "outputs": [
    {
     "data": {
      "text/html": [
       "<div>\n",
       "<style scoped>\n",
       "    .dataframe tbody tr th:only-of-type {\n",
       "        vertical-align: middle;\n",
       "    }\n",
       "\n",
       "    .dataframe tbody tr th {\n",
       "        vertical-align: top;\n",
       "    }\n",
       "\n",
       "    .dataframe thead th {\n",
       "        text-align: right;\n",
       "    }\n",
       "</style>\n",
       "<table border=\"1\" class=\"dataframe\">\n",
       "  <thead>\n",
       "    <tr style=\"text-align: right;\">\n",
       "      <th></th>\n",
       "      <th>sepal_length</th>\n",
       "      <th>sepal_width</th>\n",
       "      <th>petal_length</th>\n",
       "      <th>petal_width</th>\n",
       "      <th>class</th>\n",
       "    </tr>\n",
       "  </thead>\n",
       "  <tbody>\n",
       "    <tr>\n",
       "      <th>0</th>\n",
       "      <td>5.1</td>\n",
       "      <td>3.5</td>\n",
       "      <td>1.4</td>\n",
       "      <td>0.2</td>\n",
       "      <td>Iris-setosa</td>\n",
       "    </tr>\n",
       "    <tr>\n",
       "      <th>1</th>\n",
       "      <td>4.9</td>\n",
       "      <td>3.0</td>\n",
       "      <td>1.4</td>\n",
       "      <td>0.2</td>\n",
       "      <td>Iris-setosa</td>\n",
       "    </tr>\n",
       "    <tr>\n",
       "      <th>2</th>\n",
       "      <td>4.7</td>\n",
       "      <td>3.2</td>\n",
       "      <td>1.3</td>\n",
       "      <td>0.2</td>\n",
       "      <td>Iris-setosa</td>\n",
       "    </tr>\n",
       "    <tr>\n",
       "      <th>3</th>\n",
       "      <td>4.6</td>\n",
       "      <td>3.1</td>\n",
       "      <td>1.5</td>\n",
       "      <td>0.2</td>\n",
       "      <td>Iris-setosa</td>\n",
       "    </tr>\n",
       "    <tr>\n",
       "      <th>4</th>\n",
       "      <td>5.0</td>\n",
       "      <td>3.6</td>\n",
       "      <td>1.4</td>\n",
       "      <td>0.2</td>\n",
       "      <td>Iris-setosa</td>\n",
       "    </tr>\n",
       "    <tr>\n",
       "      <th>...</th>\n",
       "      <td>...</td>\n",
       "      <td>...</td>\n",
       "      <td>...</td>\n",
       "      <td>...</td>\n",
       "      <td>...</td>\n",
       "    </tr>\n",
       "    <tr>\n",
       "      <th>145</th>\n",
       "      <td>6.7</td>\n",
       "      <td>3.0</td>\n",
       "      <td>5.2</td>\n",
       "      <td>2.3</td>\n",
       "      <td>Iris-virginica</td>\n",
       "    </tr>\n",
       "    <tr>\n",
       "      <th>146</th>\n",
       "      <td>6.3</td>\n",
       "      <td>2.5</td>\n",
       "      <td>5.0</td>\n",
       "      <td>1.9</td>\n",
       "      <td>Iris-virginica</td>\n",
       "    </tr>\n",
       "    <tr>\n",
       "      <th>147</th>\n",
       "      <td>6.5</td>\n",
       "      <td>3.0</td>\n",
       "      <td>5.2</td>\n",
       "      <td>2.0</td>\n",
       "      <td>Iris-virginica</td>\n",
       "    </tr>\n",
       "    <tr>\n",
       "      <th>148</th>\n",
       "      <td>6.2</td>\n",
       "      <td>3.4</td>\n",
       "      <td>5.4</td>\n",
       "      <td>2.3</td>\n",
       "      <td>Iris-virginica</td>\n",
       "    </tr>\n",
       "    <tr>\n",
       "      <th>149</th>\n",
       "      <td>5.9</td>\n",
       "      <td>3.0</td>\n",
       "      <td>5.1</td>\n",
       "      <td>1.8</td>\n",
       "      <td>Iris-virginica</td>\n",
       "    </tr>\n",
       "  </tbody>\n",
       "</table>\n",
       "<p>150 rows × 5 columns</p>\n",
       "</div>"
      ],
      "text/plain": [
       "     sepal_length  sepal_width  petal_length  petal_width           class\n",
       "0             5.1          3.5           1.4          0.2     Iris-setosa\n",
       "1             4.9          3.0           1.4          0.2     Iris-setosa\n",
       "2             4.7          3.2           1.3          0.2     Iris-setosa\n",
       "3             4.6          3.1           1.5          0.2     Iris-setosa\n",
       "4             5.0          3.6           1.4          0.2     Iris-setosa\n",
       "..            ...          ...           ...          ...             ...\n",
       "145           6.7          3.0           5.2          2.3  Iris-virginica\n",
       "146           6.3          2.5           5.0          1.9  Iris-virginica\n",
       "147           6.5          3.0           5.2          2.0  Iris-virginica\n",
       "148           6.2          3.4           5.4          2.3  Iris-virginica\n",
       "149           5.9          3.0           5.1          1.8  Iris-virginica\n",
       "\n",
       "[150 rows x 5 columns]"
      ]
     },
     "execution_count": 758,
     "metadata": {},
     "output_type": "execute_result"
    }
   ],
   "source": [
    "iris_df = pd.read_csv(url, names=nome_coluna)\n",
    "iris_df"
   ]
  },
  {
   "cell_type": "code",
   "execution_count": 759,
   "id": "e73e5b14-3f01-44a6-870e-06ebb0bbc365",
   "metadata": {},
   "outputs": [
    {
     "name": "stdout",
     "output_type": "stream",
     "text": [
      "Valores nulos:\n",
      "sepal_length    0\n",
      "sepal_width     0\n",
      "petal_length    0\n",
      "petal_width     0\n",
      "class           0\n",
      "dtype: int64\n"
     ]
    }
   ],
   "source": [
    "print(\"Valores nulos:\")\n",
    "print(iris_df.isnull().sum())\n"
   ]
  },
  {
   "cell_type": "code",
   "execution_count": 760,
   "id": "f30a5213-32f1-441e-a41a-873d3d4a6618",
   "metadata": {},
   "outputs": [
    {
     "data": {
      "text/plain": [
       "{'Iris-setosa': 0, 'Iris-versicolor': 1, 'Iris-virginica': 2}"
      ]
     },
     "execution_count": 760,
     "metadata": {},
     "output_type": "execute_result"
    }
   ],
   "source": [
    "# Convertendo as classes para valores numéricos\n",
    "class_mapping = {'Iris-setosa': 0, 'Iris-versicolor': 1, 'Iris-virginica': 2}\n",
    "iris_df['class'] = iris_df['class'].map(class_mapping)\n",
    "class_mapping"
   ]
  },
  {
   "cell_type": "code",
   "execution_count": 761,
   "id": "60463014-ac19-4c8b-ace3-9b3c6448969f",
   "metadata": {},
   "outputs": [
    {
     "data": {
      "text/plain": [
       "array([[5.1, 3.5, 1.4, 0.2],\n",
       "       [4.9, 3. , 1.4, 0.2],\n",
       "       [4.7, 3.2, 1.3, 0.2],\n",
       "       [4.6, 3.1, 1.5, 0.2],\n",
       "       [5. , 3.6, 1.4, 0.2],\n",
       "       [5.4, 3.9, 1.7, 0.4],\n",
       "       [4.6, 3.4, 1.4, 0.3],\n",
       "       [5. , 3.4, 1.5, 0.2],\n",
       "       [4.4, 2.9, 1.4, 0.2],\n",
       "       [4.9, 3.1, 1.5, 0.1],\n",
       "       [5.4, 3.7, 1.5, 0.2],\n",
       "       [4.8, 3.4, 1.6, 0.2],\n",
       "       [4.8, 3. , 1.4, 0.1],\n",
       "       [4.3, 3. , 1.1, 0.1],\n",
       "       [5.8, 4. , 1.2, 0.2],\n",
       "       [5.7, 4.4, 1.5, 0.4],\n",
       "       [5.4, 3.9, 1.3, 0.4],\n",
       "       [5.1, 3.5, 1.4, 0.3],\n",
       "       [5.7, 3.8, 1.7, 0.3],\n",
       "       [5.1, 3.8, 1.5, 0.3],\n",
       "       [5.4, 3.4, 1.7, 0.2],\n",
       "       [5.1, 3.7, 1.5, 0.4],\n",
       "       [4.6, 3.6, 1. , 0.2],\n",
       "       [5.1, 3.3, 1.7, 0.5],\n",
       "       [4.8, 3.4, 1.9, 0.2],\n",
       "       [5. , 3. , 1.6, 0.2],\n",
       "       [5. , 3.4, 1.6, 0.4],\n",
       "       [5.2, 3.5, 1.5, 0.2],\n",
       "       [5.2, 3.4, 1.4, 0.2],\n",
       "       [4.7, 3.2, 1.6, 0.2],\n",
       "       [4.8, 3.1, 1.6, 0.2],\n",
       "       [5.4, 3.4, 1.5, 0.4],\n",
       "       [5.2, 4.1, 1.5, 0.1],\n",
       "       [5.5, 4.2, 1.4, 0.2],\n",
       "       [4.9, 3.1, 1.5, 0.1],\n",
       "       [5. , 3.2, 1.2, 0.2],\n",
       "       [5.5, 3.5, 1.3, 0.2],\n",
       "       [4.9, 3.1, 1.5, 0.1],\n",
       "       [4.4, 3. , 1.3, 0.2],\n",
       "       [5.1, 3.4, 1.5, 0.2],\n",
       "       [5. , 3.5, 1.3, 0.3],\n",
       "       [4.5, 2.3, 1.3, 0.3],\n",
       "       [4.4, 3.2, 1.3, 0.2],\n",
       "       [5. , 3.5, 1.6, 0.6],\n",
       "       [5.1, 3.8, 1.9, 0.4],\n",
       "       [4.8, 3. , 1.4, 0.3],\n",
       "       [5.1, 3.8, 1.6, 0.2],\n",
       "       [4.6, 3.2, 1.4, 0.2],\n",
       "       [5.3, 3.7, 1.5, 0.2],\n",
       "       [5. , 3.3, 1.4, 0.2],\n",
       "       [7. , 3.2, 4.7, 1.4],\n",
       "       [6.4, 3.2, 4.5, 1.5],\n",
       "       [6.9, 3.1, 4.9, 1.5],\n",
       "       [5.5, 2.3, 4. , 1.3],\n",
       "       [6.5, 2.8, 4.6, 1.5],\n",
       "       [5.7, 2.8, 4.5, 1.3],\n",
       "       [6.3, 3.3, 4.7, 1.6],\n",
       "       [4.9, 2.4, 3.3, 1. ],\n",
       "       [6.6, 2.9, 4.6, 1.3],\n",
       "       [5.2, 2.7, 3.9, 1.4],\n",
       "       [5. , 2. , 3.5, 1. ],\n",
       "       [5.9, 3. , 4.2, 1.5],\n",
       "       [6. , 2.2, 4. , 1. ],\n",
       "       [6.1, 2.9, 4.7, 1.4],\n",
       "       [5.6, 2.9, 3.6, 1.3],\n",
       "       [6.7, 3.1, 4.4, 1.4],\n",
       "       [5.6, 3. , 4.5, 1.5],\n",
       "       [5.8, 2.7, 4.1, 1. ],\n",
       "       [6.2, 2.2, 4.5, 1.5],\n",
       "       [5.6, 2.5, 3.9, 1.1],\n",
       "       [5.9, 3.2, 4.8, 1.8],\n",
       "       [6.1, 2.8, 4. , 1.3],\n",
       "       [6.3, 2.5, 4.9, 1.5],\n",
       "       [6.1, 2.8, 4.7, 1.2],\n",
       "       [6.4, 2.9, 4.3, 1.3],\n",
       "       [6.6, 3. , 4.4, 1.4],\n",
       "       [6.8, 2.8, 4.8, 1.4],\n",
       "       [6.7, 3. , 5. , 1.7],\n",
       "       [6. , 2.9, 4.5, 1.5],\n",
       "       [5.7, 2.6, 3.5, 1. ],\n",
       "       [5.5, 2.4, 3.8, 1.1],\n",
       "       [5.5, 2.4, 3.7, 1. ],\n",
       "       [5.8, 2.7, 3.9, 1.2],\n",
       "       [6. , 2.7, 5.1, 1.6],\n",
       "       [5.4, 3. , 4.5, 1.5],\n",
       "       [6. , 3.4, 4.5, 1.6],\n",
       "       [6.7, 3.1, 4.7, 1.5],\n",
       "       [6.3, 2.3, 4.4, 1.3],\n",
       "       [5.6, 3. , 4.1, 1.3],\n",
       "       [5.5, 2.5, 4. , 1.3],\n",
       "       [5.5, 2.6, 4.4, 1.2],\n",
       "       [6.1, 3. , 4.6, 1.4],\n",
       "       [5.8, 2.6, 4. , 1.2],\n",
       "       [5. , 2.3, 3.3, 1. ],\n",
       "       [5.6, 2.7, 4.2, 1.3],\n",
       "       [5.7, 3. , 4.2, 1.2],\n",
       "       [5.7, 2.9, 4.2, 1.3],\n",
       "       [6.2, 2.9, 4.3, 1.3],\n",
       "       [5.1, 2.5, 3. , 1.1],\n",
       "       [5.7, 2.8, 4.1, 1.3],\n",
       "       [6.3, 3.3, 6. , 2.5],\n",
       "       [5.8, 2.7, 5.1, 1.9],\n",
       "       [7.1, 3. , 5.9, 2.1],\n",
       "       [6.3, 2.9, 5.6, 1.8],\n",
       "       [6.5, 3. , 5.8, 2.2],\n",
       "       [7.6, 3. , 6.6, 2.1],\n",
       "       [4.9, 2.5, 4.5, 1.7],\n",
       "       [7.3, 2.9, 6.3, 1.8],\n",
       "       [6.7, 2.5, 5.8, 1.8],\n",
       "       [7.2, 3.6, 6.1, 2.5],\n",
       "       [6.5, 3.2, 5.1, 2. ],\n",
       "       [6.4, 2.7, 5.3, 1.9],\n",
       "       [6.8, 3. , 5.5, 2.1],\n",
       "       [5.7, 2.5, 5. , 2. ],\n",
       "       [5.8, 2.8, 5.1, 2.4],\n",
       "       [6.4, 3.2, 5.3, 2.3],\n",
       "       [6.5, 3. , 5.5, 1.8],\n",
       "       [7.7, 3.8, 6.7, 2.2],\n",
       "       [7.7, 2.6, 6.9, 2.3],\n",
       "       [6. , 2.2, 5. , 1.5],\n",
       "       [6.9, 3.2, 5.7, 2.3],\n",
       "       [5.6, 2.8, 4.9, 2. ],\n",
       "       [7.7, 2.8, 6.7, 2. ],\n",
       "       [6.3, 2.7, 4.9, 1.8],\n",
       "       [6.7, 3.3, 5.7, 2.1],\n",
       "       [7.2, 3.2, 6. , 1.8],\n",
       "       [6.2, 2.8, 4.8, 1.8],\n",
       "       [6.1, 3. , 4.9, 1.8],\n",
       "       [6.4, 2.8, 5.6, 2.1],\n",
       "       [7.2, 3. , 5.8, 1.6],\n",
       "       [7.4, 2.8, 6.1, 1.9],\n",
       "       [7.9, 3.8, 6.4, 2. ],\n",
       "       [6.4, 2.8, 5.6, 2.2],\n",
       "       [6.3, 2.8, 5.1, 1.5],\n",
       "       [6.1, 2.6, 5.6, 1.4],\n",
       "       [7.7, 3. , 6.1, 2.3],\n",
       "       [6.3, 3.4, 5.6, 2.4],\n",
       "       [6.4, 3.1, 5.5, 1.8],\n",
       "       [6. , 3. , 4.8, 1.8],\n",
       "       [6.9, 3.1, 5.4, 2.1],\n",
       "       [6.7, 3.1, 5.6, 2.4],\n",
       "       [6.9, 3.1, 5.1, 2.3],\n",
       "       [5.8, 2.7, 5.1, 1.9],\n",
       "       [6.8, 3.2, 5.9, 2.3],\n",
       "       [6.7, 3.3, 5.7, 2.5],\n",
       "       [6.7, 3. , 5.2, 2.3],\n",
       "       [6.3, 2.5, 5. , 1.9],\n",
       "       [6.5, 3. , 5.2, 2. ],\n",
       "       [6.2, 3.4, 5.4, 2.3],\n",
       "       [5.9, 3. , 5.1, 1.8]])"
      ]
     },
     "execution_count": 761,
     "metadata": {},
     "output_type": "execute_result"
    }
   ],
   "source": [
    "X = iris_df.iloc[:, :-1].values\n",
    "X"
   ]
  },
  {
   "cell_type": "code",
   "execution_count": 762,
   "id": "6a53fd57-533d-4085-8a71-34aef31541bf",
   "metadata": {},
   "outputs": [
    {
     "data": {
      "text/plain": [
       "array([0, 0, 0, 0, 0, 0, 0, 0, 0, 0, 0, 0, 0, 0, 0, 0, 0, 0, 0, 0, 0, 0,\n",
       "       0, 0, 0, 0, 0, 0, 0, 0, 0, 0, 0, 0, 0, 0, 0, 0, 0, 0, 0, 0, 0, 0,\n",
       "       0, 0, 0, 0, 0, 0, 1, 1, 1, 1, 1, 1, 1, 1, 1, 1, 1, 1, 1, 1, 1, 1,\n",
       "       1, 1, 1, 1, 1, 1, 1, 1, 1, 1, 1, 1, 1, 1, 1, 1, 1, 1, 1, 1, 1, 1,\n",
       "       1, 1, 1, 1, 1, 1, 1, 1, 1, 1, 1, 1, 2, 2, 2, 2, 2, 2, 2, 2, 2, 2,\n",
       "       2, 2, 2, 2, 2, 2, 2, 2, 2, 2, 2, 2, 2, 2, 2, 2, 2, 2, 2, 2, 2, 2,\n",
       "       2, 2, 2, 2, 2, 2, 2, 2, 2, 2, 2, 2, 2, 2, 2, 2, 2, 2], dtype=int64)"
      ]
     },
     "execution_count": 762,
     "metadata": {},
     "output_type": "execute_result"
    }
   ],
   "source": [
    "y = iris_df.iloc[:, -1].values\n",
    "y"
   ]
  },
  {
   "cell_type": "code",
   "execution_count": 763,
   "id": "d18d18cd-5229-4be3-ad35-ef54ca059f0f",
   "metadata": {},
   "outputs": [],
   "source": [
    "\n",
    "def rotulando(y):\n",
    "    n_classes = len(np.unique(y))\n",
    "    return np.eye(n_classes)[y.astype(int)]\n",
    "    "
   ]
  },
  {
   "cell_type": "code",
   "execution_count": 764,
   "id": "8d92c744-e085-4f73-bea0-4ef25c731fd7",
   "metadata": {},
   "outputs": [
    {
     "data": {
      "text/plain": [
       "array([[1., 0., 0.],\n",
       "       [1., 0., 0.],\n",
       "       [1., 0., 0.],\n",
       "       [1., 0., 0.],\n",
       "       [1., 0., 0.],\n",
       "       [1., 0., 0.],\n",
       "       [1., 0., 0.],\n",
       "       [1., 0., 0.],\n",
       "       [1., 0., 0.],\n",
       "       [1., 0., 0.],\n",
       "       [1., 0., 0.],\n",
       "       [1., 0., 0.],\n",
       "       [1., 0., 0.],\n",
       "       [1., 0., 0.],\n",
       "       [1., 0., 0.],\n",
       "       [1., 0., 0.],\n",
       "       [1., 0., 0.],\n",
       "       [1., 0., 0.],\n",
       "       [1., 0., 0.],\n",
       "       [1., 0., 0.],\n",
       "       [1., 0., 0.],\n",
       "       [1., 0., 0.],\n",
       "       [1., 0., 0.],\n",
       "       [1., 0., 0.],\n",
       "       [1., 0., 0.],\n",
       "       [1., 0., 0.],\n",
       "       [1., 0., 0.],\n",
       "       [1., 0., 0.],\n",
       "       [1., 0., 0.],\n",
       "       [1., 0., 0.],\n",
       "       [1., 0., 0.],\n",
       "       [1., 0., 0.],\n",
       "       [1., 0., 0.],\n",
       "       [1., 0., 0.],\n",
       "       [1., 0., 0.],\n",
       "       [1., 0., 0.],\n",
       "       [1., 0., 0.],\n",
       "       [1., 0., 0.],\n",
       "       [1., 0., 0.],\n",
       "       [1., 0., 0.],\n",
       "       [1., 0., 0.],\n",
       "       [1., 0., 0.],\n",
       "       [1., 0., 0.],\n",
       "       [1., 0., 0.],\n",
       "       [1., 0., 0.],\n",
       "       [1., 0., 0.],\n",
       "       [1., 0., 0.],\n",
       "       [1., 0., 0.],\n",
       "       [1., 0., 0.],\n",
       "       [1., 0., 0.],\n",
       "       [0., 1., 0.],\n",
       "       [0., 1., 0.],\n",
       "       [0., 1., 0.],\n",
       "       [0., 1., 0.],\n",
       "       [0., 1., 0.],\n",
       "       [0., 1., 0.],\n",
       "       [0., 1., 0.],\n",
       "       [0., 1., 0.],\n",
       "       [0., 1., 0.],\n",
       "       [0., 1., 0.],\n",
       "       [0., 1., 0.],\n",
       "       [0., 1., 0.],\n",
       "       [0., 1., 0.],\n",
       "       [0., 1., 0.],\n",
       "       [0., 1., 0.],\n",
       "       [0., 1., 0.],\n",
       "       [0., 1., 0.],\n",
       "       [0., 1., 0.],\n",
       "       [0., 1., 0.],\n",
       "       [0., 1., 0.],\n",
       "       [0., 1., 0.],\n",
       "       [0., 1., 0.],\n",
       "       [0., 1., 0.],\n",
       "       [0., 1., 0.],\n",
       "       [0., 1., 0.],\n",
       "       [0., 1., 0.],\n",
       "       [0., 1., 0.],\n",
       "       [0., 1., 0.],\n",
       "       [0., 1., 0.],\n",
       "       [0., 1., 0.],\n",
       "       [0., 1., 0.],\n",
       "       [0., 1., 0.],\n",
       "       [0., 1., 0.],\n",
       "       [0., 1., 0.],\n",
       "       [0., 1., 0.],\n",
       "       [0., 1., 0.],\n",
       "       [0., 1., 0.],\n",
       "       [0., 1., 0.],\n",
       "       [0., 1., 0.],\n",
       "       [0., 1., 0.],\n",
       "       [0., 1., 0.],\n",
       "       [0., 1., 0.],\n",
       "       [0., 1., 0.],\n",
       "       [0., 1., 0.],\n",
       "       [0., 1., 0.],\n",
       "       [0., 1., 0.],\n",
       "       [0., 1., 0.],\n",
       "       [0., 1., 0.],\n",
       "       [0., 1., 0.],\n",
       "       [0., 1., 0.],\n",
       "       [0., 0., 1.],\n",
       "       [0., 0., 1.],\n",
       "       [0., 0., 1.],\n",
       "       [0., 0., 1.],\n",
       "       [0., 0., 1.],\n",
       "       [0., 0., 1.],\n",
       "       [0., 0., 1.],\n",
       "       [0., 0., 1.],\n",
       "       [0., 0., 1.],\n",
       "       [0., 0., 1.],\n",
       "       [0., 0., 1.],\n",
       "       [0., 0., 1.],\n",
       "       [0., 0., 1.],\n",
       "       [0., 0., 1.],\n",
       "       [0., 0., 1.],\n",
       "       [0., 0., 1.],\n",
       "       [0., 0., 1.],\n",
       "       [0., 0., 1.],\n",
       "       [0., 0., 1.],\n",
       "       [0., 0., 1.],\n",
       "       [0., 0., 1.],\n",
       "       [0., 0., 1.],\n",
       "       [0., 0., 1.],\n",
       "       [0., 0., 1.],\n",
       "       [0., 0., 1.],\n",
       "       [0., 0., 1.],\n",
       "       [0., 0., 1.],\n",
       "       [0., 0., 1.],\n",
       "       [0., 0., 1.],\n",
       "       [0., 0., 1.],\n",
       "       [0., 0., 1.],\n",
       "       [0., 0., 1.],\n",
       "       [0., 0., 1.],\n",
       "       [0., 0., 1.],\n",
       "       [0., 0., 1.],\n",
       "       [0., 0., 1.],\n",
       "       [0., 0., 1.],\n",
       "       [0., 0., 1.],\n",
       "       [0., 0., 1.],\n",
       "       [0., 0., 1.],\n",
       "       [0., 0., 1.],\n",
       "       [0., 0., 1.],\n",
       "       [0., 0., 1.],\n",
       "       [0., 0., 1.],\n",
       "       [0., 0., 1.],\n",
       "       [0., 0., 1.],\n",
       "       [0., 0., 1.],\n",
       "       [0., 0., 1.],\n",
       "       [0., 0., 1.],\n",
       "       [0., 0., 1.]])"
      ]
     },
     "execution_count": 764,
     "metadata": {},
     "output_type": "execute_result"
    }
   ],
   "source": [
    "y = rotulando(y)\n",
    "y"
   ]
  },
  {
   "cell_type": "code",
   "execution_count": 765,
   "id": "75b9aa16-2a2e-42bd-956a-204c6a7695fd",
   "metadata": {},
   "outputs": [],
   "source": [
    "def sigmoid(x):\n",
    "    return 1 / (1 + np.exp(-x))"
   ]
  },
  {
   "cell_type": "markdown",
   "id": "6e5fd01e-c559-4b68-9e01-610e2a07d2f6",
   "metadata": {},
   "source": [
    "A função sigmoid é definida matematicamente como: f(x) = 1 / (1 + e^(-x))\n",
    "Para valores muito negativos de x, a função se aproxima de 0.\n",
    "Para x = 0, a função retorna 0.5.\n",
    "Para valores muito positivos de x, a função se aproxima de 1."
   ]
  },
  {
   "cell_type": "code",
   "execution_count": 767,
   "id": "172882cc-8f3c-4715-9651-30375f419b5f",
   "metadata": {},
   "outputs": [],
   "source": [
    "def calcula_v_max(x):\n",
    "    exp_x = np.exp(x - np.max(x, axis=1, keepdims=True))\n",
    "    return exp_x / np.sum(exp_x, axis=1, keepdims=True)"
   ]
  },
  {
   "cell_type": "markdown",
   "id": "4328d0c8-963a-44dd-847f-04b96445625a",
   "metadata": {},
   "source": [
    "Calcula o valor máximo ao longo do eixo 1 (linhas) do array de entrada x.\n",
    "keepdims=True mantém a dimensionalidade do resultado\n",
    "x - np.max(x, axis=1, keepdims=True) Subtrai o valor máximo de cada linha de x.\n",
    "np.exp(x - np.max(x, axis=1, keepdims=True) Calcula a exponencial (e^x) para cada elemento do array resultante da subtração.\n",
    "exp_x / np.sum(exp_x, axis=1, keepdims=True):\n",
    "Soma as exponenciais ao longo do eixo 1 (linhas).\n",
    "Divide cada exponencial pela soma das exponenciais de sua respectiva linha.\n",
    "O resultado final é um array onde cada linha soma 1, e cada elemento representa a probabilidade da amostra pertencer a uma determinada classe."
   ]
  },
  {
   "cell_type": "code",
   "execution_count": 769,
   "id": "bf83d969-4c58-4ced-834e-251332175749",
   "metadata": {},
   "outputs": [],
   "source": [
    "def predict(X, peso):\n",
    "    # Desempacota os pesos para cada camada\n",
    "    W1, b1, W2, b2 = peso\n",
    "    \n",
    "    # Camada oculta\n",
    "    z1 = np.dot(X, W1) + b1 # multiplica as entradas pelos pesos da primeira camada e adiciona o viés.\n",
    "    a1 = sigmoid(z1) # aplica a função de ativação sigmoid ao resultado.\n",
    "    \n",
    "    # Camada de saída\n",
    "    z2 = np.dot(a1, W2) + b2 # multiplica as ativações da camada oculta pelos pesos da camada de saída + b2: adiciona o viés.\n",
    "    a2 = calcula_v_max(z2) # aplica a função de ativação da camada de saída\n",
    "    \n",
    "    # Retornando o índice da classe com maior probabilidade\n",
    "    return np.argmax(a2, axis=1)"
   ]
  },
  {
   "cell_type": "code",
   "execution_count": 770,
   "id": "a2672714-5382-4384-be5e-5561227d5f16",
   "metadata": {},
   "outputs": [],
   "source": [
    "def initialize_peso(t_entrada, tamanho, t_saida):\n",
    "    W1 = np.random.randn(t_entrada, tamanho) * 0.01\n",
    "    b1 = np.zeros((1, tamanho))\n",
    "    W2 = np.random.randn(tamanho, t_saida) * 0.01\n",
    "    b2 = np.zeros((1, t_saida))\n",
    "    return W1, b1, W2, b2"
   ]
  },
  {
   "cell_type": "code",
   "execution_count": 771,
   "id": "f92d7b96-6da0-4ebc-93b9-dbaaad6bfdb1",
   "metadata": {},
   "outputs": [],
   "source": [
    "def train(X, y, tamanho, taxa, n_epocas):\n",
    "    t_entrada = X.shape[1]\n",
    "    t_saida = y.shape[1]\n",
    "    \n",
    "    # Inicialização dos pesos\n",
    "    peso = initialize_peso(t_entrada, tamanho, t_saida)\n",
    "    W1, b1, W2, b2 = peso\n",
    "    \n",
    "    for epoca in range(n_epocas):\n",
    "        # Forward propagation\n",
    "        z1 = np.dot(X, W1) + b1\n",
    "        a1 = sigmoid(z1)\n",
    "        z2 = np.dot(a1, W2) + b2\n",
    "        a2 = calcula_v_max(z2)\n",
    "        \n",
    "        # Backpropagation\n",
    "        dz2 = a2 - y\n",
    "        dW2 = np.dot(a1.T, dz2)\n",
    "        db2 = np.sum(dz2, axis=0, keepdims=True)\n",
    "        dz1 = np.dot(dz2, W2.T) * (a1 * (1 - a1))\n",
    "        dW1 = np.dot(X.T, dz1)\n",
    "        db1 = np.sum(dz1, axis=0)\n",
    "        \n",
    "        # Atualização dos pesos\n",
    "        W1 -= taxa * dW1\n",
    "        b1 -= taxa * db1\n",
    "        W2 -= taxa * dW2\n",
    "        b2 -= taxa * db2\n",
    "        \n",
    "        if epoca % 100 == 0:\n",
    "            loss = -np.mean(y * np.log(a2 + 1e-8))\n",
    "            print(f\"epoca {epoca}, Loss: {loss}\") #é impresso durante o treinamento a cada 100 épocas\n",
    "    \n",
    "    return W1, b1, W2, b2"
   ]
  },
  {
   "cell_type": "code",
   "execution_count": 772,
   "id": "65e24ca8-b917-4143-980e-ee43f8c03ec5",
   "metadata": {},
   "outputs": [
    {
     "name": "stdout",
     "output_type": "stream",
     "text": [
      "epoca 0, Loss: 0.3662075857257434\n",
      "epoca 100, Loss: 0.16365823106225097\n",
      "epoca 200, Loss: 0.14846094111793007\n",
      "epoca 300, Loss: 0.14288027170310336\n",
      "epoca 400, Loss: 0.1613142622147131\n",
      "epoca 500, Loss: 0.1577667190640643\n",
      "epoca 600, Loss: 0.13642885810763014\n",
      "epoca 700, Loss: 0.15165296455259208\n",
      "epoca 800, Loss: 0.13371794574262957\n",
      "epoca 900, Loss: 0.1594050933076459\n",
      "Neurônios: 1, Acurácia: 0.68\n",
      "epoca 0, Loss: 0.36612201548177825\n",
      "epoca 100, Loss: 0.1538170804949408\n",
      "epoca 200, Loss: 0.15330737394363803\n",
      "epoca 300, Loss: 0.15456299280970157\n",
      "epoca 400, Loss: 0.05014643889478466\n",
      "epoca 500, Loss: 0.15928217073068768\n",
      "epoca 600, Loss: 0.06780245306085404\n",
      "epoca 700, Loss: 0.05867320029924145\n",
      "epoca 800, Loss: 0.054184800445726156\n",
      "epoca 900, Loss: 0.05050692852936476\n",
      "Neurônios: 2, Acurácia: 0.97\n",
      "epoca 0, Loss: 0.3662124211421915\n",
      "epoca 100, Loss: 0.1372281109435591\n",
      "epoca 200, Loss: 0.166005320040371\n",
      "epoca 300, Loss: 0.10386915253291559\n",
      "epoca 400, Loss: 0.12393234211553998\n",
      "epoca 500, Loss: 0.20257653013058027\n",
      "epoca 600, Loss: 0.07235122786555066\n",
      "epoca 700, Loss: 0.10741034019871798\n",
      "epoca 800, Loss: 0.04601774940536741\n",
      "epoca 900, Loss: 0.0360784936758118\n",
      "Neurônios: 3, Acurácia: 0.89\n",
      "epoca 0, Loss: 0.36620959111597795\n",
      "epoca 100, Loss: 0.18230501408616212\n",
      "epoca 200, Loss: 0.12009949073352855\n",
      "epoca 300, Loss: 0.06713481129544885\n",
      "epoca 400, Loss: 0.06259745310088224\n",
      "epoca 500, Loss: 0.08925602669088542\n",
      "epoca 600, Loss: 0.039478184197649875\n",
      "epoca 700, Loss: 0.035188675748911366\n",
      "epoca 800, Loss: 0.03154144487260828\n",
      "epoca 900, Loss: 0.028372064385273215\n",
      "Neurônios: 4, Acurácia: 0.92\n",
      "epoca 0, Loss: 0.36614434433710663\n",
      "epoca 100, Loss: 0.12788596266878333\n",
      "epoca 200, Loss: 0.12178357120316224\n",
      "epoca 300, Loss: 0.12995259841141948\n",
      "epoca 400, Loss: 0.06724430566934891\n",
      "epoca 500, Loss: 0.049320466044442735\n",
      "epoca 600, Loss: 0.04070665847552331\n",
      "epoca 700, Loss: 0.03585291998069739\n",
      "epoca 800, Loss: 0.03211357062407338\n",
      "epoca 900, Loss: 0.029386327384587924\n",
      "Neurônios: 6, Acurácia: 0.97\n",
      "epoca 0, Loss: 0.3662339945215831\n",
      "epoca 100, Loss: 0.19919593732239388\n",
      "epoca 200, Loss: 0.1039734742530034\n",
      "epoca 300, Loss: 0.13906521264016736\n",
      "epoca 400, Loss: 0.06748489172588809\n",
      "epoca 500, Loss: 0.04415318906260723\n",
      "epoca 600, Loss: 0.036961741863364435\n",
      "epoca 700, Loss: 0.03236609340734038\n",
      "epoca 800, Loss: 0.029201398711776592\n",
      "epoca 900, Loss: 0.02703636415931393\n",
      "Neurônios: 8, Acurácia: 0.97\n",
      "epoca 0, Loss: 0.3661420202476704\n",
      "epoca 100, Loss: 0.09401793686434268\n",
      "epoca 200, Loss: 0.1434299611548474\n",
      "epoca 300, Loss: 0.09774057339103326\n",
      "epoca 400, Loss: 0.07216921962553971\n",
      "epoca 500, Loss: 0.03989783543470382\n",
      "epoca 600, Loss: 0.0349689441435408\n",
      "epoca 700, Loss: 0.03144909197039381\n",
      "epoca 800, Loss: 0.028975441628320057\n",
      "epoca 900, Loss: 0.027320771162458946\n",
      "Neurônios: 10, Acurácia: 0.97\n",
      "\n",
      "Melhor configuração: 2 neurônios com acurácia de 0.97\n"
     ]
    }
   ],
   "source": [
    "tamanhos = [1, 2, 3, 4, 6, 8, 10]\n",
    "taxa = 0.01\n",
    "n_epocas = 1000\n",
    "melhores_pesos = None\n",
    "melhor_acuracia = 0\n",
    "\n",
    "for tamanho in tamanhos:\n",
    "    peso = train(X_train, y_train, tamanho, taxa, n_epocas)\n",
    "    y_pred = predict(X_test, peso)\n",
    "    accuracy = np.mean(y_pred == np.argmax(y_test, axis=1))\n",
    "    print(f\"Neurônios: {tamanho}, Acurácia: {accuracy:.2f}\")\n",
    "    \n",
    "    if accuracy > melhor_acuracia:\n",
    "        melhor_acuracia = accuracy\n",
    "        melhores_pesos = peso\n",
    "        melhor_tamanho = tamanho\n",
    "\n",
    "print(f\"\\nMelhor configuração: {melhor_tamanho} neurônios com acurácia de {melhor_acuracia:.2f}\")\n",
    "\n",
    "y_pred = predict(X_test, melhores_pesos)"
   ]
  },
  {
   "cell_type": "code",
   "execution_count": 773,
   "id": "28a54402-0ba0-48fe-87a1-f555fbc26b0a",
   "metadata": {},
   "outputs": [
    {
     "name": "stdout",
     "output_type": "stream",
     "text": [
      "\n",
      "Melhor configuração: 2 neurônios\n",
      "Melhor acurácia: 0.97\n",
      "Acurácia final (usando os melhores pesos): 0.97\n"
     ]
    }
   ],
   "source": [
    "# Usando a melhor configuração para as previsões finais\n",
    "y_pred = predict(X_test, melhores_pesos)\n",
    "\n",
    "# Calculando a acurácia final\n",
    "accuracy_final = np.mean(y_pred == np.argmax(y_test, axis=1))\n",
    "\n",
    "print(f\"\\nMelhor configuração: {melhor_tamanho} neurônios\")\n",
    "print(f\"Melhor acurácia: {melhor_acuracia:.2f}\")\n",
    "print(f\"Acurácia final (usando os melhores pesos): {accuracy_final:.2f}\")"
   ]
  },
  {
   "cell_type": "code",
   "execution_count": 774,
   "id": "26c88b76-0244-4519-a2bb-1359095383f2",
   "metadata": {},
   "outputs": [],
   "source": [
    "# Dividindo os dados em conjuntos de treinamento (75%) e teste (25%)\n",
    "X_train,X_test, y_train, y_test = dividir(X, y, test_size=0.25, random_state=42)"
   ]
  },
  {
   "cell_type": "code",
   "execution_count": 775,
   "id": "14d83043-eef0-45fc-83ef-d98d7c551c5c",
   "metadata": {},
   "outputs": [
    {
     "name": "stdout",
     "output_type": "stream",
     "text": [
      "\n",
      "Tamanho do conjunto de treinamento: 113\n"
     ]
    }
   ],
   "source": [
    "print(\"\\nTamanho do conjunto de treinamento:\", X_train.shape[0])"
   ]
  },
  {
   "cell_type": "code",
   "execution_count": 776,
   "id": "73fd40cd-ec84-4575-89c2-ee285489f51a",
   "metadata": {},
   "outputs": [
    {
     "name": "stdout",
     "output_type": "stream",
     "text": [
      "Tamanho do conjunto de teste: 37\n"
     ]
    }
   ],
   "source": [
    "print(\"Tamanho do conjunto de teste:\", X_test.shape[0])"
   ]
  },
  {
   "cell_type": "code",
   "execution_count": 777,
   "id": "d82ac289-cfa6-42e5-a172-b6f7c3328602",
   "metadata": {},
   "outputs": [
    {
     "data": {
      "text/plain": [
       "array([1, 0, 2, 1, 1, 0, 1, 2, 2, 1, 2, 0, 0, 0, 0, 1, 2, 1, 1, 2, 0, 2,\n",
       "       0, 2, 2, 2, 2, 2, 0, 0, 0, 0, 1, 0, 0, 2, 1], dtype=int64)"
      ]
     },
     "execution_count": 777,
     "metadata": {},
     "output_type": "execute_result"
    }
   ],
   "source": [
    "# Fazendo previsões\n",
    "y_pred = predict(X_test, peso)\n",
    "y_pred"
   ]
  },
  {
   "cell_type": "code",
   "execution_count": 778,
   "id": "de4b943a-baf1-4479-a400-185c881c2679",
   "metadata": {},
   "outputs": [
    {
     "data": {
      "text/plain": [
       "array([1, 0, 2, 1, 1, 0, 1, 2, 1, 1, 2, 0, 0, 0, 0, 1, 2, 1, 1, 2, 0, 2,\n",
       "       0, 2, 2, 2, 2, 2, 0, 0, 0, 0, 1, 0, 0, 2, 1], dtype=int64)"
      ]
     },
     "execution_count": 778,
     "metadata": {},
     "output_type": "execute_result"
    }
   ],
   "source": [
    "# Convertendo y_test de one-hot para rótulos de classe\n",
    "y_test_labels = np.argmax(y_test, axis=1)\n",
    "y_test_labels"
   ]
  },
  {
   "cell_type": "code",
   "execution_count": 779,
   "id": "d831fd63-3761-4289-831b-d45bbd247348",
   "metadata": {},
   "outputs": [
    {
     "name": "stdout",
     "output_type": "stream",
     "text": [
      "Número de previsões corretas: 36\n",
      "Número de previsões incorretas: 1\n"
     ]
    }
   ],
   "source": [
    "# Calculando o número de acertos e erros\n",
    "n_correct = np.sum(y_test_labels == y_pred)\n",
    "n_incorrect = len(y_test_labels) - n_correct\n",
    "\n",
    "print(f\"Número de previsões corretas: {n_correct}\")\n",
    "print(f\"Número de previsões incorretas: {n_incorrect}\")"
   ]
  },
  {
   "cell_type": "code",
   "execution_count": 780,
   "id": "5cfbc7a0-b3e1-4e16-a8ab-45bb32efcd9c",
   "metadata": {},
   "outputs": [
    {
     "name": "stdout",
     "output_type": "stream",
     "text": [
      "\n",
      "Matriz de Confusão:\n",
      "[[14  0  0]\n",
      " [ 0 10  1]\n",
      " [ 0  0 12]]\n"
     ]
    }
   ],
   "source": [
    "# Matriz de confusão\n",
    "from sklearn.metrics import confusion_matrix\n",
    "cm = confusion_matrix(y_test_labels, y_pred)\n",
    "print(\"\\nMatriz de Confusão:\")\n",
    "print(cm)\n"
   ]
  },
  {
   "cell_type": "code",
   "execution_count": null,
   "id": "e32f70cc-1b9a-4c7c-bfe0-0606a64bc88c",
   "metadata": {},
   "outputs": [],
   "source": []
  },
  {
   "cell_type": "code",
   "execution_count": 781,
   "id": "054bb739-7180-4220-8ff6-f4bc39252249",
   "metadata": {},
   "outputs": [
    {
     "name": "stdout",
     "output_type": "stream",
     "text": [
      "\n",
      "Amostras do conjunto de treinamento:\n",
      "[[5.2 3.5 1.5 0.2]\n",
      " [5.  3.6 1.4 0.2]\n",
      " [5.2 4.1 1.5 0.1]\n",
      " [5.8 2.7 5.1 1.9]\n",
      " [6.  3.4 4.5 1.6]\n",
      " [6.7 3.1 4.7 1.5]\n",
      " [5.4 3.9 1.3 0.4]\n",
      " [5.4 3.7 1.5 0.2]]\n",
      "\n",
      "Rótulos correspondentes:\n",
      "[[1. 0. 0.]\n",
      " [1. 0. 0.]\n",
      " [1. 0. 0.]\n",
      " [0. 0. 1.]\n",
      " [0. 1. 0.]\n",
      " [0. 1. 0.]\n",
      " [1. 0. 0.]\n",
      " [1. 0. 0.]]\n",
      "\n",
      "Amostras do conjunto de teste:\n",
      "[[6.1 2.8 4.7 1.2]\n",
      " [5.7 3.8 1.7 0.3]\n",
      " [7.7 2.6 6.9 2.3]\n",
      " [6.  2.9 4.5 1.5]\n",
      " [6.8 2.8 4.8 1.4]\n",
      " [5.4 3.4 1.5 0.4]\n",
      " [5.6 2.9 3.6 1.3]\n",
      " [6.9 3.1 5.1 2.3]]\n",
      "\n",
      "Rótulos correspondentes:\n",
      "[[0. 1. 0.]\n",
      " [1. 0. 0.]\n",
      " [0. 0. 1.]\n",
      " [0. 1. 0.]\n",
      " [0. 1. 0.]\n",
      " [1. 0. 0.]\n",
      " [0. 1. 0.]\n",
      " [0. 0. 1.]]\n"
     ]
    }
   ],
   "source": [
    "# Imprimindo algumas amostras dos conjuntos de treinamento e teste\n",
    "print(\"\\nAmostras do conjunto de treinamento:\")\n",
    "print(X_train[:8])\n",
    "print(\"\\nRótulos correspondentes:\")\n",
    "print(y_train[:8])\n",
    "\n",
    "print(\"\\nAmostras do conjunto de teste:\")\n",
    "print(X_test[:8])\n",
    "print(\"\\nRótulos correspondentes:\")\n",
    "print(y_test[:8])"
   ]
  },
  {
   "cell_type": "code",
   "execution_count": 782,
   "id": "e06f6994-607d-45e7-b533-a1864833b3e1",
   "metadata": {},
   "outputs": [
    {
     "data": {
      "image/png": "[encoded data removed]",
      "text/plain": [
       "<Figure size 1600x700 with 2 Axes>"
      ]
     },
     "metadata": {},
     "output_type": "display_data"
    },
    {
     "data": {
      "image/png": "[encoded data removed]",
      "text/plain": [
       "<Figure size 800x600 with 2 Axes>"
      ]
     },
     "metadata": {},
     "output_type": "display_data"
    }
   ],
   "source": [
    "\n",
    "# Aumentar o tamanho da figura\n",
    "plt.figure(figsize=(16, 7))\n",
    "\n",
    "# Gráfico de dispersão para o conjunto de treinamento\n",
    "plt.subplot(121)\n",
    "for i in range(3):\n",
    "    plt.scatter(X_train[y_train[:, i] == 1, 0], X_train[y_train[:, i] == 1, 1], label=f'Classe {i}')\n",
    "plt.title('Conjunto de Treinamento', fontsize=12)\n",
    "plt.xlabel('Comprimento da Sépala', fontsize=10)\n",
    "plt.ylabel('Largura da Sépala', fontsize=10)\n",
    "plt.legend(fontsize=8)\n",
    "\n",
    "# Gráfico de dispersão para o conjunto de teste\n",
    "plt.subplot(122)\n",
    "for i in range(3):\n",
    "    plt.scatter(X_test[y_test[:, i] == 1, 0], X_test[y_test[:, i] == 1, 1], label=f'Classe {i}')\n",
    "plt.title('Conjunto de Teste', fontsize=12)\n",
    "plt.xlabel('Comprimento da Sépala', fontsize=10)\n",
    "plt.ylabel('Largura da Sépala', fontsize=10)\n",
    "plt.legend(fontsize=8)\n",
    "\n",
    "# Ajustar as margens\n",
    "plt.tight_layout(pad=3.0)\n",
    "\n",
    "# Mostrar o gráfico\n",
    "plt.show()\n",
    "\n",
    "# Novo gráfico para a matriz de confusão\n",
    "plt.figure(figsize=(8, 6))\n",
    "plt.imshow(cm, interpolation='nearest', cmap=plt.cm.Blues)\n",
    "plt.title('Matriz de Confusão', fontsize=12)\n",
    "plt.colorbar()\n",
    "tick_marks = np.arange(3)\n",
    "plt.xticks(tick_marks, ['Setosa', 'Versicolor', 'Virginica'], fontsize=8)\n",
    "plt.yticks(tick_marks, ['Setosa', 'Versicolor', 'Virginica'], fontsize=8)\n",
    "plt.ylabel('Rótulo Verdadeiro', fontsize=10)\n",
    "plt.xlabel('Rótulo Previsto', fontsize=10)\n",
    "\n",
    "# Adicionando os valores na matriz\n",
    "thresh = cm.max() / 2.\n",
    "for i in range(cm.shape[0]):\n",
    "    for j in range(cm.shape[1]):\n",
    "        plt.text(j, i, format(cm[i, j], 'd'),\n",
    "                 horizontalalignment=\"center\",\n",
    "                 color=\"white\" if cm[i, j] > thresh else \"black\",\n",
    "                 fontsize=10)\n",
    "\n",
    "plt.tight_layout()\n",
    "plt.show()\n"
   ]
  },
  {
   "cell_type": "code",
   "execution_count": null,
   "id": "01f287e3-c9ae-4b54-b9ff-3153ee12264d",
   "metadata": {},
   "outputs": [],
   "source": []
  },
  {
   "cell_type": "code",
   "execution_count": null,
   "id": "7b594b14-5678-4826-a428-ae7c9653308e",
   "metadata": {},
   "outputs": [],
   "source": []
  }
 ],
 "metadata": {
  "kernelspec": {
   "display_name": "Python 3 (ipykernel)",
   "language": "python",
   "name": "python3"
  },
  "language_info": {
   "codemirror_mode": {
    "name": "ipython",
    "version": 3
   },
   "file_extension": ".py",
   "mimetype": "text/x-python",
   "name": "python",
   "nbconvert_exporter": "python",
   "pygments_lexer": "ipython3",
   "version": "3.11.7"
  }
 },
 "nbformat": 4,
 "nbformat_minor": 5
}
