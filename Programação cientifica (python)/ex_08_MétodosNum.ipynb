{
  "nbformat": 4,
  "nbformat_minor": 0,
  "metadata": {
    "colab": {
      "provenance": []
    },
    "kernelspec": {
      "name": "python3",
      "display_name": "Python 3"
    },
    "language_info": {
      "name": "python"
    }
  },
  "cells": [
    {
      "cell_type": "markdown",
      "source": [
        "Exercício 1:\n",
        "A)"
      ],
      "metadata": {
        "id": "M7mxObENKyM1"
      }
    },
    {
      "cell_type": "code",
      "execution_count": 19,
      "metadata": {
        "colab": {
          "base_uri": "https://localhost:8080/"
        },
        "id": "54PZhdrVI8kQ",
        "outputId": "d82edbe0-637c-4afe-e6c3-7f04589c2515"
      },
      "outputs": [
        {
          "output_type": "stream",
          "name": "stdout",
          "text": [
            "Raiz encontrada: x = 1/16777216\n",
            "Número de iterações: 25\n"
          ]
        }
      ],
      "source": [
        "import sympy as sym\n",
        "\n",
        "x = sym.symbols('x')\n",
        "\n",
        "f = x**2\n",
        "\n",
        "df = sym.diff(f, x)\n",
        "\n",
        "x0 = 2\n",
        "\n",
        "epsilon = 0.0000001\n",
        "\n",
        "iteracoes = 0\n",
        "\n",
        "while True:\n",
        "    iteracoes += 1\n",
        "\n",
        "    f_valor = f.subs(x, x0)\n",
        "    df_valor = df.subs(x, x0)\n",
        "\n",
        "    x1 = x0 - f_valor/df_valor\n",
        "\n",
        "    if abs(x1 - x0) < epsilon:\n",
        "        break\n",
        "\n",
        "    x0 = x1\n",
        "\n",
        "print(f\"Raiz encontrada: x = {x1}\")\n",
        "print(f\"Número de iterações: {iteracoes}\")"
      ]
    },
    {
      "cell_type": "markdown",
      "source": [
        "Exercício 1:\n",
        "B)"
      ],
      "metadata": {
        "id": "I8I6wV58MkH2"
      }
    },
    {
      "cell_type": "code",
      "source": [
        "import sympy as sym\n",
        "\n",
        "x = sym.symbols('x')\n",
        "\n",
        "f = x**3 - 2*x**2 + 2\n",
        "\n",
        "df = sym.diff(f, x)\n",
        "\n",
        "x0 = 2\n",
        "\n",
        "epsilon = 0.0000001\n",
        "\n",
        "iteracoes = 0\n",
        "\n",
        "while True:\n",
        "    iteracoes += 1\n",
        "\n",
        "    f_valor = f.subs(x, x0).evalf()\n",
        "    df_valor = df.subs(x, x0).evalf()\n",
        "    x1 = x0 - f_valor/df_valor\n",
        "\n",
        "    if abs(x1 - x0) < epsilon:\n",
        "        break\n",
        "\n",
        "    x0 = x1\n",
        "\n",
        "print(f\"Raiz encontrada: x = {x1.evalf()}\")\n",
        "print(f\"Número de iterações: {iteracoes}\")"
      ],
      "metadata": {
        "colab": {
          "base_uri": "https://localhost:8080/"
        },
        "id": "Gk1lTBkkLmlY",
        "outputId": "5651e432-281c-43eb-90e4-8def641e6463"
      },
      "execution_count": 17,
      "outputs": [
        {
          "output_type": "stream",
          "name": "stdout",
          "text": [
            "Raiz encontrada: x = -0.839286755214161\n",
            "Número de iterações: 13\n"
          ]
        }
      ]
    },
    {
      "cell_type": "markdown",
      "source": [
        "Exercício 1:\n",
        "B): com varios valores de taxa de aprendizado"
      ],
      "metadata": {
        "id": "1gT5n3S_O4HH"
      }
    },
    {
      "cell_type": "code",
      "source": [
        "import sympy as sym\n",
        "\n",
        "x = sym.symbols('x')\n",
        "f = x**3 - 2*x**2 + 2  # Exemplo de função\n",
        "df = sym.diff(f, x)  # Derivada da função\n",
        "\n",
        "x0 = 2  # Ponto inicial\n",
        "epsilon = 0.000001  # Precisão desejada\n",
        "\n",
        "# Testando diferentes taxas de aprendizado\n",
        "for beta in [0.1 * i for i in range(1, 11)]:\n",
        "    iteracoes = 0\n",
        "    x_atual = x0\n",
        "    while True:\n",
        "        iteracoes += 1\n",
        "        f_valor = f.subs(x, x_atual)\n",
        "        df_valor = df.subs(x, x_atual)\n",
        "        x_proximo = x_atual - beta * (f_valor / df_valor)\n",
        "\n",
        "        if abs(x_proximo - x_atual) < epsilon:\n",
        "            break\n",
        "\n",
        "        x_atual = x_proximo\n",
        "\n",
        "    print(f\"Taxa de aprendizado: {beta}, Raiz encontrada: {x_atual}, Iterações: {iteracoes}\")"
      ],
      "metadata": {
        "colab": {
          "base_uri": "https://localhost:8080/"
        },
        "id": "EuaiU5zmL4Z4",
        "outputId": "d6247a11-97e6-41de-806b-22c6778e40e4"
      },
      "execution_count": 18,
      "outputs": [
        {
          "output_type": "stream",
          "name": "stdout",
          "text": [
            "Taxa de aprendizado: 0.1, Raiz encontrada: -0.839296179378050, Iterações: 283\n",
            "Taxa de aprendizado: 0.2, Raiz encontrada: -0.839282654516456, Iterações: 94\n",
            "Taxa de aprendizado: 0.30000000000000004, Raiz encontrada: -0.839289725962565, Iterações: 85\n",
            "Taxa de aprendizado: 0.4, Raiz encontrada: -0.839284559477331, Iterações: 37\n",
            "Taxa de aprendizado: 0.5, Raiz encontrada: -0.839288070214530, Iterações: 38\n",
            "Taxa de aprendizado: 0.6000000000000001, Raiz encontrada: -0.839288065636227, Iterações: 33\n",
            "Taxa de aprendizado: 0.7000000000000001, Raiz encontrada: -0.839287936871699, Iterações: 64\n",
            "Taxa de aprendizado: 0.8, Raiz encontrada: -0.839287046408634, Iterações: 22\n",
            "Taxa de aprendizado: 0.9, Raiz encontrada: -0.839287579063567, Iterações: 19\n",
            "Taxa de aprendizado: 1.0, Raiz encontrada: -0.839286762504990, Iterações: 13\n"
          ]
        }
      ]
    },
    {
      "cell_type": "markdown",
      "source": [
        "Exercício 2:\n",
        "A)"
      ],
      "metadata": {
        "id": "gDFQyEoJQYT2"
      }
    },
    {
      "cell_type": "code",
      "source": [
        "def f_prime(x):\n",
        "    return 3*x**2 - 4*x\n",
        "\n",
        "x = 2\n",
        "beta = 0.01\n",
        "tolerancia = 1e-6\n",
        "max_iteracao = 10000\n",
        "interacao = 0\n",
        "\n",
        "while True:\n",
        "    interacao += 1\n",
        "    gradient = f_prime(x)\n",
        "    x_new = x - beta * gradient\n",
        "\n",
        "    if abs(x - x_new) < tolerancia:\n",
        "        break\n",
        "\n",
        "    x = x_new\n",
        "\n",
        "    if interacao >= max_iteracao:\n",
        "        print(\"Máximo de iterações alcançado.\")\n",
        "        break\n",
        "\n",
        "print(f\"O mínimo da função é aproximadamente em x = {x}, após {interacao} iterações.\")"
      ],
      "metadata": {
        "colab": {
          "base_uri": "https://localhost:8080/"
        },
        "id": "DjUA3VbzPS7N",
        "outputId": "e08877ba-a49c-4017-f21c-3650560a4f7a"
      },
      "execution_count": 24,
      "outputs": [
        {
          "output_type": "stream",
          "name": "stdout",
          "text": [
            "O mínimo da função é aproximadamente em x = 1.333357630043811, após 241 iterações.\n"
          ]
        }
      ]
    },
    {
      "cell_type": "markdown",
      "source": [
        "Exercício 2:\n",
        "B)\n"
      ],
      "metadata": {
        "id": "IbSxkZNiRZ-E"
      }
    },
    {
      "cell_type": "code",
      "source": [
        "def f_melhor_x(x):\n",
        "    return -2 * (1 - x)\n",
        "\n",
        "def f_melhor_y(y):\n",
        "    return -2 * (1 - y)\n",
        "\n",
        "x, y = 0, 0\n",
        "beta = 0.1\n",
        "tolerancia = 1e-6\n",
        "max_iteracao = 10000\n",
        "interacao = 0\n",
        "\n",
        "while True:\n",
        "    interacao += 1\n",
        "    gradient_x = f_melhor_x(x)\n",
        "    gradient_y = f_melhor_y(y)\n",
        "\n",
        "    x_new = x - beta * gradient_x\n",
        "    y_new = y - beta * gradient_y\n",
        "\n",
        "    if abs(x - x_new) < tolerancia and abs(y - y_new) < tolerancia:\n",
        "        break\n",
        "\n",
        "    x, y = x_new, y_new\n",
        "\n",
        "    if interacao >= max_iteracao:\n",
        "        print(\"Máximo de iterações alcançado.\")\n",
        "        break\n",
        "\n",
        "print(f\"O mínimo da função é aproximadamente em x = {x}, y = {y}, após {interacao} iterações.\")"
      ],
      "metadata": {
        "colab": {
          "base_uri": "https://localhost:8080/"
        },
        "id": "btsHX0u5QeBR",
        "outputId": "28bb11ff-14a3-431e-a509-20613b95bf96"
      },
      "execution_count": 25,
      "outputs": [
        {
          "output_type": "stream",
          "name": "stdout",
          "text": [
            "O mínimo da função é aproximadamente em x = 0.9999953231947606, y = 0.9999953231947606, após 56 iterações.\n"
          ]
        }
      ]
    },
    {
      "cell_type": "markdown",
      "source": [
        "Exercício 2:\n",
        "C)"
      ],
      "metadata": {
        "id": "y0alb-L7RgPc"
      }
    },
    {
      "cell_type": "code",
      "source": [
        "def f_melhor_x(x, y):\n",
        "    return 200 * (x - y**2)\n",
        "\n",
        "def f_melhor_y(x, y):\n",
        "    return -2 * (1 - y) - 400 * y * (x - y**2)\n",
        "\n",
        "x, y = -1, 1\n",
        "beta = 0.001\n",
        "tolerancia = 1e-6\n",
        "max_iteracao = 100000\n",
        "interacao = 0\n",
        "\n",
        "while True:\n",
        "    interacao += 1\n",
        "    gradient_x = f_melhor_x(x, y)\n",
        "    gradient_y = f_melhor_y(x, y)\n",
        "\n",
        "    x_new = x - beta * gradient_x\n",
        "    y_new = y - beta * gradient_y\n",
        "\n",
        "    if abs(x - x_new) < tolerancia and abs(y - y_new) < tolerancia:\n",
        "        break\n",
        "\n",
        "    x, y = x_new, y_new\n",
        "\n",
        "    if interacao >= max_iteracao:\n",
        "        print(\"Máximo de iterações alcançado.\")\n",
        "        break\n",
        "\n",
        "print(f\"O mínimo da função é aproximadamente em x = {x}, y = {y}, após {interacao} iterações.\")"
      ],
      "metadata": {
        "colab": {
          "base_uri": "https://localhost:8080/"
        },
        "id": "WaVZ4VMWRfNF",
        "outputId": "17373c14-be70-45bd-aa35-8adc5d24b44e"
      },
      "execution_count": 26,
      "outputs": [
        {
          "output_type": "stream",
          "name": "stdout",
          "text": [
            "O mínimo da função é aproximadamente em x = 0.997500039359199, y = 0.9987517399965228, após 13718 iterações.\n"
          ]
        }
      ]
    },
    {
      "cell_type": "markdown",
      "source": [
        "Exercício 2:\n",
        "C) com a taxa de aprendizado alterada"
      ],
      "metadata": {
        "id": "R66J4fIQcllI"
      }
    },
    {
      "cell_type": "code",
      "source": [
        "def f_melhor_x(x, y):\n",
        "    return 200 * (x - y**2)  # Derivada parcial de f em relação a x\n",
        "\n",
        "def f_melhor_y(x, y):\n",
        "    return -2 * (1 - y) - 400 * y * (x - y**2)  # Derivada parcial de f em relação a y\n",
        "\n",
        "x, y = -1, 1  # Pontos iniciais\n",
        "beta = 0.0001  # Taxa de aprendizado\n",
        "tolerancia = 1e-6  # Tolerância para a convergência\n",
        "max_iteracao = 100000  # Máximo de iterações para evitar loop infinito\n",
        "interacao = 0  # Contador de iterações\n",
        "\n",
        "while True:\n",
        "    interacao += 1\n",
        "    gradient_x = f_melhor_x(x, y)\n",
        "    gradient_y = f_melhor_y(x, y)\n",
        "\n",
        "    x_new = x - beta * gradient_x  # Atualização de x\n",
        "    y_new = y - beta * gradient_y  # Atualização de y\n",
        "\n",
        "    if abs(x - x_new) < tolerancia and abs(y - y_new) < tolerancia:  # Condição de parada\n",
        "        break\n",
        "\n",
        "    x, y = x_new, y_new  # Atualiza x e y para a próxima iteração\n",
        "\n",
        "    if interacao >= max_iteracao:  # Prevenção de loop infinito\n",
        "        print(\"Máximo de iterações alcançado.\")\n",
        "        break\n",
        "\n",
        "print(f\"O mínimo da função é aproximadamente em x = {x}, y = {y}, após {interacao} iterações.\")"
      ],
      "metadata": {
        "colab": {
          "base_uri": "https://localhost:8080/"
        },
        "id": "dRAgtoOTX0RO",
        "outputId": "d483ba15-946d-410e-86f1-da2d5aa71913"
      },
      "execution_count": 27,
      "outputs": [
        {
          "output_type": "stream",
          "name": "stdout",
          "text": [
            "O mínimo da função é aproximadamente em x = 0.9752994888007032, y = 0.9875978375525766, após 79751 iterações.\n"
          ]
        }
      ]
    },
    {
      "cell_type": "markdown",
      "source": [
        "quando diminui a taxa de aprendizado em ambos os problemas o numero de interações diminui, pois quanto maior a taxa de aprendizado maior é a precisão que o sistema busca.\n"
      ],
      "metadata": {
        "id": "wucm0dTmYFJs"
      }
    }
  ]
}